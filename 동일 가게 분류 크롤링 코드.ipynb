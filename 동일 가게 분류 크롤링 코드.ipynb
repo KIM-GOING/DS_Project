{
 "cells": [
  {
   "cell_type": "code",
   "execution_count": 2,
   "id": "5230f184",
   "metadata": {},
   "outputs": [],
   "source": [
    "import pandas as pd\n",
    "from selenium import webdriver\n",
    "import time\n",
    "import warnings\n",
    "\n",
    "warnings.filterwarnings(action='ignore')"
   ]
  },
  {
   "cell_type": "code",
   "execution_count": 5,
   "id": "10470ebe",
   "metadata": {},
   "outputs": [],
   "source": [
    "site = \"맥도널드\"\n",
    "search_word = '용산 '+site"
   ]
  },
  {
   "cell_type": "code",
   "execution_count": 6,
   "id": "1b9120d1",
   "metadata": {},
   "outputs": [],
   "source": [
    "naver_link = 'https://map.naver.com/v5/search/' + search_word + '?c=14134149.6626597,4514872.5029643,15,0,0,0,dh&entry=plt'\n",
    "wd = webdriver.Chrome('chromedriver.exe')\n",
    "\n",
    "wd.get(naver_link)\n",
    "time.sleep(1)"
   ]
  },
  {
   "cell_type": "code",
   "execution_count": null,
   "id": "d331b334",
   "metadata": {},
   "outputs": [],
   "source": [
    "address_rule = ['후암동', '용산동2가', '용산동4가', '갈월동', '남영동', '동자동', '용산동1가', '서계동', '청파동1가', '청파동2가', '청파동3가', '원효로1가', '원효로2가', '문배동', '신계동', '원효로3가', '원효로4가', '신창동', '청암동', '산천동', '효창동', '용문동', '도원동', '한강로1가', '한강로2가', '한강로3가', '용산동3가', '용산동5가', '이촌동', '이태원동', '한남동', '서빙고동', '동빙고동', '주성동', '용산동6가', '보광동']"
   ]
  }
 ],
 "metadata": {
  "kernelspec": {
   "display_name": "Python 3 (ipykernel)",
   "language": "python",
   "name": "python3"
  },
  "language_info": {
   "codemirror_mode": {
    "name": "ipython",
    "version": 3
   },
   "file_extension": ".py",
   "mimetype": "text/x-python",
   "name": "python",
   "nbconvert_exporter": "python",
   "pygments_lexer": "ipython3",
   "version": "3.7.13"
  }
 },
 "nbformat": 4,
 "nbformat_minor": 5
}
