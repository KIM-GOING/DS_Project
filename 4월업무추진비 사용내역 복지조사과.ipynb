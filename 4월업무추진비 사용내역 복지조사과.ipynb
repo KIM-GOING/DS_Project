{
 "cells": [
  {
   "cell_type": "code",
   "execution_count": 4,
   "id": "e5ed6f98",
   "metadata": {},
   "outputs": [],
   "source": [
    "from tika import parser"
   ]
  },
  {
   "cell_type": "code",
   "execution_count": 5,
   "id": "5e2a0136",
   "metadata": {},
   "outputs": [],
   "source": [
    "PDFfileName = '4월업무추진비 사용내역 복지조사과.pdf'"
   ]
  },
  {
   "cell_type": "code",
   "execution_count": 6,
   "id": "395983f6",
   "metadata": {},
   "outputs": [
    {
     "name": "stderr",
     "output_type": "stream",
     "text": [
      "2022-05-28 21:47:09,638 [MainThread  ] [INFO ]  Retrieving http://search.maven.org/remotecontent?filepath=org/apache/tika/tika-server/1.24/tika-server-1.24.jar.md5 to C:\\Users\\kv100\\AppData\\Local\\Temp\\tika-server.jar.md5.\n",
      "2022-05-28 21:47:10,962 [MainThread  ] [INFO ]  Retrieving http://search.maven.org/remotecontent?filepath=org/apache/tika/tika-server/1.24/tika-server-1.24.jar to C:\\Users\\kv100\\AppData\\Local\\Temp\\tika-server.jar.\n",
      "2022-05-28 21:47:43,532 [MainThread  ] [WARNI]  Failed to see startup log message; retrying...\n"
     ]
    }
   ],
   "source": [
    "parsed = parser.from_file(PDFfileName)"
   ]
  },
  {
   "cell_type": "code",
   "execution_count": 7,
   "id": "1c647b38",
   "metadata": {},
   "outputs": [
    {
     "name": "stdout",
     "output_type": "stream",
     "text": [
      "\n",
      "\n",
      "\n",
      "\n",
      "\n",
      "\n",
      "\n",
      "\n",
      "\n",
      "\n",
      "\n",
      "\n",
      "\n",
      "\n",
      "\n",
      "\n",
      "\n",
      "\n",
      "\n",
      "\n",
      "\n",
      "\n",
      "\n",
      "\n",
      "\n",
      "\n",
      "\n",
      "\n",
      "\n",
      "\n",
      "\n",
      "\n",
      "\n",
      "\n",
      "\n",
      "\n",
      "\n",
      "\n",
      "\n",
      "\n",
      "\n",
      "\n",
      "\n",
      "\n",
      "\n",
      "\n",
      "\n",
      "\n",
      "사용자 일시 장소 집행목적  금액 (원) 대상인원 결제방법\n",
      "\n",
      "주무관 2022.04.04. 20:08 마린씨 통합관리 업무 협의 230,000  8 카드\n",
      "\n",
      "주무관 2022-04-13. 12:00 포하우스 자활복지팀 업무협의 36,000 4 카드\n",
      "\n",
      "복지조사과장 2022-04-19. 20:30 걸구네 업무추진을 위한 협의 100,000 4 카드\n",
      "\n",
      "업무추진비  사용내역\n",
      "\n",
      "\n",
      "\n",
      "\n",
      "\n"
     ]
    }
   ],
   "source": [
    "print(parsed[\"content\"])"
   ]
  },
  {
   "cell_type": "code",
   "execution_count": 10,
   "id": "9b5f228e",
   "metadata": {},
   "outputs": [
    {
     "data": {
      "text/plain": [
       "str"
      ]
     },
     "execution_count": 10,
     "metadata": {},
     "output_type": "execute_result"
    }
   ],
   "source": [
    "type('content')"
   ]
  },
  {
   "cell_type": "code",
   "execution_count": 25,
   "id": "d0effbec",
   "metadata": {},
   "outputs": [
    {
     "data": {
      "text/plain": [
       "'\\n\\n\\n\\n\\n\\n\\n\\n\\n\\n\\n\\n\\n\\n\\n\\n\\n\\n\\n\\n\\n\\n\\n\\n\\n\\n\\n\\n\\n\\n\\n\\n\\n\\n\\n\\n\\n\\n\\n\\n\\n\\n\\n\\n\\n\\n\\n\\n사용자 일시 장소 집행목적  금액 (원) 대상인원 결제방법\\n\\n주무관 2022.04.04. 20:08 마린씨 통합관리 업무 협의 230,000  8 카드\\n\\n주무관 2022-04-13. 12:00 포하우스 자활복지팀 업무협의 36,000 4 카드\\n\\n복지조사과장 2022-04-19. 20:30 걸구네 업무추진을 위한 협의 100,000 4 카드\\n\\n업무추진비  사용내역\\n\\n\\n\\n\\n'"
      ]
     },
     "execution_count": 25,
     "metadata": {},
     "output_type": "execute_result"
    }
   ],
   "source": [
    "file = parsed['content']\n",
    "file"
   ]
  },
  {
   "cell_type": "code",
   "execution_count": 26,
   "id": "b9426f68",
   "metadata": {},
   "outputs": [
    {
     "data": {
      "text/plain": [
       "'사용자 일시 장소 집행목적  금액 (원) 대상인원 결제방법\\n\\n주무관 2022.04.04. 20:08 마린씨 통합관리 업무 협의 230,000  8 카드\\n\\n주무관 2022-04-13. 12:00 포하우스 자활복지팀 업무협의 36,000 4 카드\\n\\n복지조사과장 2022-04-19. 20:30 걸구네 업무추진을 위한 협의 100,000 4 카드\\n\\n업무추진비  사용내역'"
      ]
     },
     "execution_count": 26,
     "metadata": {},
     "output_type": "execute_result"
    }
   ],
   "source": [
    "file = file.strip('\\n')\n",
    "file"
   ]
  },
  {
   "cell_type": "code",
   "execution_count": null,
   "id": "0f3c9688",
   "metadata": {},
   "outputs": [],
   "source": [
    "file.find"
   ]
  }
 ],
 "metadata": {
  "kernelspec": {
   "display_name": "Python 3 (ipykernel)",
   "language": "python",
   "name": "python3"
  },
  "language_info": {
   "codemirror_mode": {
    "name": "ipython",
    "version": 3
   },
   "file_extension": ".py",
   "mimetype": "text/x-python",
   "name": "python",
   "nbconvert_exporter": "python",
   "pygments_lexer": "ipython3",
   "version": "3.7.13"
  }
 },
 "nbformat": 4,
 "nbformat_minor": 5
}
